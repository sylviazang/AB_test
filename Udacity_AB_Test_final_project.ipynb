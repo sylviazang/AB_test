{
 "cells": [
  {
   "cell_type": "code",
   "execution_count": 3,
   "metadata": {},
   "outputs": [],
   "source": [
    "import numpy as np\n",
    "import pandas as pd\n",
    "import math\n",
    "from scipy.stats import binom_test \n",
    "\n",
    "from IPython.display import Image"
   ]
  },
  {
   "cell_type": "markdown",
   "metadata": {},
   "source": [
    "![title](./business_process.jpeg)"
   ]
  },
  {
   "cell_type": "markdown",
   "metadata": {},
   "source": [
    "# Calculating Standard Deviation\n",
    "\n",
    "\n",
    "Estimates of the baseline values for metrics are collected as:\n",
    "\n",
    "|  | Number |\n",
    "| :- | :- |\n",
    "| Unique cookies to view course overview page per day | 40000 |\n",
    "| Unique cookies to click \"Start free trial\" per day | 3200 |\n",
    "| Enrollments per day | 660 |\n",
    "| Click-through-probability on \"Start free trial\"| 0.08 |\n",
    "| Probability of enrolling, given click| 0.20625 |\n",
    "| Probability of payment, given enroll| 0.53 |\n",
    "| Probability of payment, given click | 0.1093125  |\n",
    "\n",
    "\n",
    "Use baseline values to make an analytic estimate of its standard deviation, given a sample size of 5000 cookies visiting the course overview page.\n",
    "\n",
    "\n",
    "Retention and Net conversion are two selected evaluation metrics. Their Standard Deviations are estimated as:"
   ]
  },
  {
   "cell_type": "code",
   "execution_count": 2,
   "metadata": {},
   "outputs": [],
   "source": [
    "n_total_observe = 40000\n",
    "n_click = 3200\n",
    "n_enroll = 660\n",
    "p_click_through = n_click / n_total_observe\n",
    "p_enroll = n_enroll / n_click\n",
    "p_retention = 0.53\n",
    "p_net_conversion = p_retention * p_enroll\n",
    "\n",
    "n_exp = 5000\n",
    "\n",
    "n_retention = n_enroll / n_total_observe * n_exp\n",
    "n_net_conversion = n_click / n_total_observe * n_exp"
   ]
  },
  {
   "cell_type": "code",
   "execution_count": 5,
   "metadata": {},
   "outputs": [
    {
     "name": "stdout",
     "output_type": "stream",
     "text": [
      "Retention sd: 0.05494901217850908\n",
      "Net conversion sd: 0.015601544582488459\n"
     ]
    }
   ],
   "source": [
    "std_retention = np.sqrt(p_retention * (1-p_retention) / n_retention)\n",
    "std_net_conversion = np.sqrt(p_net_conversion * (1 - p_net_conversion) / n_net_conversion)\n",
    "print (f'Retention sd: {std_retention}')\n",
    "print (f'Net conversion sd: {std_net_conversion}')"
   ]
  },
  {
   "cell_type": "markdown",
   "metadata": {},
   "source": [
    "# Sizing\n",
    "\n",
    "## Multiple metrics correction\n",
    "\n",
    "Because Retention and Net conversion are highly related metrics, using Bonferroni correction would be too conservative. \n",
    "\n",
    "\n",
    "## Size estimation\n",
    "\n",
    "\n",
    "Using Evan Millar's site to help estimate size per group: https://www.evanmiller.org/ab-testing/sample-size.html\n",
    "\n",
    "Using significance level alpha = 5% and statistical power 1-beta = 80% across the board.\n",
    "\n",
    "### Retention\n",
    "\n",
    "Given:\n",
    "\n",
    "* Baseline convresion rate: 53%\n",
    "* Minimum detectable effect: 1%\n",
    "\n",
    "Estimated: \n",
    "\n",
    "* Sample size per variation: 39,115\n",
    "\n",
    "Therefore,\n",
    "\n",
    "* Experiment and control group size: 78,230 (= 39115 * 2)\n",
    "* Number of pageviews: 4,741,212 (= 78230 / 660 * 40000)\n",
    "\n",
    "### Net Conversion\n",
    "\n",
    "Given:\n",
    "\n",
    "* Baseline conversion rate: 10.93%\n",
    "* Minimum detectable effect: 0.75%\n",
    "\n",
    "Estimated: \n",
    "\n",
    "* Sample size per variation: 27,411\n",
    "\n",
    "Therefore,\n",
    "\n",
    "* Experiment and control group size: 54,822 (= 27411 * 2)\n",
    "* Number of pageviews: 685,275 (= 54822 / 3200 * 40000)\n",
    "\n",
    "## Conclusion\n",
    "\n",
    "Given retention requires more pageviews than net conversion, the larger pageview is needed as for experiments: 4,741,212."
   ]
  },
  {
   "cell_type": "markdown",
   "metadata": {},
   "source": [
    "# Duration and exposure\n",
    "\n",
    "## Retention required duration"
   ]
  },
  {
   "cell_type": "code",
   "execution_count": 14,
   "metadata": {},
   "outputs": [
    {
     "name": "stdout",
     "output_type": "stream",
     "text": [
      "With 1 trafic, it takes 119 days to collect enough pageviews to be able to reach conclusion for retention.\n"
     ]
    }
   ],
   "source": [
    "pageview_retention = 4741212\n",
    "fraction = 1\n",
    "duration_retention = pageview_retention / n_total_observe\n",
    "\n",
    "print (f'With {fraction} trafic, it takes {math.ceil(duration_retention)} days to collect enough pageviews to be able to reach conclusion for retention.')\n"
   ]
  },
  {
   "cell_type": "markdown",
   "metadata": {},
   "source": [
    "## Net conversion required duration"
   ]
  },
  {
   "cell_type": "code",
   "execution_count": 15,
   "metadata": {},
   "outputs": [
    {
     "name": "stdout",
     "output_type": "stream",
     "text": [
      "With 1 trafic, it takes 18 days to collect enough pageviews to be able to reach conclusion for retention.\n"
     ]
    }
   ],
   "source": [
    "pageview_net_conversion = 685275\n",
    "fraction = 1\n",
    "duration_net_conversion = pageview_net_conversion / n_total_observe\n",
    "\n",
    "print (f'With {fraction} trafic, it takes {math.ceil(duration_net_conversion)} days to collect enough pageviews to be able to reach conclusion for retention.')\n"
   ]
  },
  {
   "cell_type": "markdown",
   "metadata": {},
   "source": [
    "## Conclusion\n",
    "\n",
    "Because 119 days are too long to draw conclusions of the experiment, an early decision is required. Taking 18 days to evaluate net conversion should be sufficient."
   ]
  },
  {
   "cell_type": "markdown",
   "metadata": {},
   "source": [
    "# Sanity checks\n",
    "\n",
    "For each invariant metrics, check whether experiment data fall in confidence intervals and pass sanity checks. Invariant metrics are:\n",
    "\n",
    "* Number of cookies\n",
    "* Number of clicks: Number pf unique cookies to click the \"Start free tiral\"\n",
    "* Click-through-probability: number of clicks divided by number of unique cookies to view the course overview page.\n",
    "\n",
    "The experiment collected data are:"
   ]
  },
  {
   "cell_type": "code",
   "execution_count": 16,
   "metadata": {},
   "outputs": [],
   "source": [
    "pageviews_cont=[ 7723,  9102, 10511,  9871, 10014,  9670,  9008,  7434,  8459,\n",
    "       10667, 10660,  9947,  8324,  9434,  8687,  8896,  9535,  9363,\n",
    "        9327,  9345,  8890,  8460,  8836,  9437,  9420,  9570,  9921,\n",
    "        9424,  9010,  9656, 10419,  9880, 10134,  9717,  9192,  8630,\n",
    "        8970]\n",
    "pageviews_exp=[ 7716,  9288, 10480,  9867,  9793,  9500,  9088,  7664,  8434,\n",
    "       10496, 10551,  9737,  8176,  9402,  8669,  8881,  9655,  9396,\n",
    "        9262,  9308,  8715,  8448,  8836,  9359,  9427,  9633,  9842,\n",
    "        9272,  8969,  9697, 10445,  9931, 10042,  9721,  9304,  8668,\n",
    "        8988]\n",
    "clicks_cont=[687, 779, 909, 836, 837, 823, 748, 632, 691, 861, 867, 838, 665,\n",
    "       673, 691, 708, 759, 736, 739, 734, 706, 681, 693, 788, 781, 805,\n",
    "       830, 781, 756, 825, 874, 830, 801, 814, 735, 743, 722]\n",
    "clicks_exp=[686, 785, 884, 827, 832, 788, 780, 652, 697, 860, 864, 801, 642,\n",
    "       697, 669, 693, 771, 736, 727, 728, 722, 695, 724, 789, 743, 808,\n",
    "       831, 767, 760, 850, 851, 831, 802, 829, 770, 724, 710]\n",
    "enrolls_cont=[134, 147, 167, 156, 163, 138, 146, 110, 131, 165, 196, 162, 127,\n",
    "       220, 176, 161, 233, 154, 196, 167, 174, 156, 206]\n",
    "enrolls_exp=[105, 116, 145, 138, 140, 129, 127,  94, 120, 153, 143, 128, 122,\n",
    "       194, 127, 153, 213, 162, 201, 207, 182, 142, 182]\n",
    "payment_cont=[ 70,  70,  95, 105,  64,  82,  76,  70,  60,  97, 105,  92,  56,\n",
    "       122, 128, 104, 124,  91,  86,  75, 101,  93,  67]\n",
    "payment_exp=[ 34,  91,  79,  92,  94,  61,  44,  62,  77,  98,  71,  70,  68,\n",
    "        94,  81, 101, 119, 120,  96,  67, 123, 100, 103]\n",
    "\n",
    "ctr_exp = [i/j for (i, j) in zip(clicks_exp, pageviews_exp)]\n",
    "ctr_cont = [i/j for (i, j) in zip(clicks_cont, pageviews_cont)]\n"
   ]
  },
  {
   "cell_type": "markdown",
   "metadata": {},
   "source": [
    "## Number of cookies\n"
   ]
  },
  {
   "cell_type": "code",
   "execution_count": 18,
   "metadata": {},
   "outputs": [
    {
     "name": "stdout",
     "output_type": "stream",
     "text": [
      "Pageview confidence interval: [0.4988, 0.5012]\n",
      "Observed pageview % in experiment group: 0.4994\n"
     ]
    }
   ],
   "source": [
    "n_pageview_cont = sum(pageviews_cont)\n",
    "n_pageview_exp = sum(pageviews_exp)\n",
    "pageview_sd = np.sqrt (0.5 * 0.5 / (n_pageview_cont + n_pageview_exp))\n",
    "pageview_margin = 1.96 * pageview_sd\n",
    "ci_left, ci_right = 0.5 - pageview_margin, 0.5 + pageview_margin\n",
    "\n",
    "print (f'Pageview confidence interval: [{round(ci_left, 4)}, {round(ci_right, 4)}]')\n",
    "print (f'Observed pageview % in experiment group: {round(n_pageview_exp / (n_pageview_exp + n_pageview_cont), 4)}')"
   ]
  },
  {
   "cell_type": "markdown",
   "metadata": {},
   "source": [
    "## Number of clicks"
   ]
  },
  {
   "cell_type": "code",
   "execution_count": 20,
   "metadata": {},
   "outputs": [
    {
     "name": "stdout",
     "output_type": "stream",
     "text": [
      "Number of clicks on \"Start free trial\" confidence interval: [0.4959, 0.5041]\n",
      "Observed clicks on \"Start free trial\" % in experiment group: 0.4995\n"
     ]
    }
   ],
   "source": [
    "n_click_cont = sum(clicks_cont)\n",
    "n_click_exp = sum(clicks_exp)\n",
    "click_sd = np.sqrt (0.5 * 0.5 / (n_click_cont + n_click_exp))\n",
    "click_margin = 1.96 * click_sd\n",
    "ci_left, ci_right = 0.5 - click_margin, 0.5 + click_margin\n",
    "\n",
    "print (f'Number of clicks on \"Start free trial\" confidence interval: [{round(ci_left, 4)}, {round(ci_right, 4)}]')\n",
    "print (f'Observed clicks on \"Start free trial\" % in experiment group: {round(n_click_exp / (n_click_exp + n_click_cont), 4)}')"
   ]
  },
  {
   "cell_type": "markdown",
   "metadata": {},
   "source": [
    "## Click-through-probability"
   ]
  },
  {
   "cell_type": "code",
   "execution_count": 23,
   "metadata": {},
   "outputs": [
    {
     "name": "stdout",
     "output_type": "stream",
     "text": [
      "Click-through-probability confidence interval: [(-0.0013, 0.0013)]\n",
      "Observed Click-through-probability: 0.0001\n"
     ]
    }
   ],
   "source": [
    "p_cont = n_click_cont / n_pageview_cont\n",
    "p_exp = n_click_exp / n_pageview_exp\n",
    "p_pool = (n_click_cont + n_click_exp) / (n_pageview_cont + n_pageview_exp)\n",
    "se_pool = np.sqrt(p_pool * (1-p_pool) * (1/n_pageview_cont + 1/n_pageview_exp))\n",
    "diff = p_exp - p_cont\n",
    "ci_left, ci_right = -1.96 * se_pool, 1.96 * se_pool\n",
    "\n",
    "print (f'Click-through-probability confidence interval: [{round(ci_left, 4), round(ci_right, 4)}]')\n",
    "print (f'Observed Click-through-probability: {round(diff, 4)}')\n"
   ]
  },
  {
   "cell_type": "markdown",
   "metadata": {},
   "source": [
    "# Effect size tests\n",
    "\n",
    "For each of evaluation metrics, compute confidence interval around the difference.\n",
    "\n",
    "Evaluation metrics:\n",
    "\n",
    "* Retention\n",
    "* Net conversino\n",
    "\n",
    "A metric is statistically significant if the confidence interval does not include 0 (that is, you can be confident there was a change), and it is practically significant if the confidence interval does not include the practical significance boundary (that is, you can be confident there is a change that matters to the business.)"
   ]
  },
  {
   "cell_type": "code",
   "execution_count": 37,
   "metadata": {},
   "outputs": [
    {
     "name": "stdout",
     "output_type": "stream",
     "text": [
      "Retention confidence interval: [0.0081, 0.0541]\n",
      "Observed Retention diff: 0.0311\n",
      "Statistical significance: True\n",
      "Practical significance (d_min = 0.01): False\n"
     ]
    }
   ],
   "source": [
    "retention_exp = [i/j for (i,j) in zip(payment_exp , enrolls_exp)]\n",
    "retention_cont = [i/j for (i,j) in zip(payment_cont , enrolls_cont)]\n",
    "rtt_p_cont = sum(payment_cont) / sum(enrolls_cont)\n",
    "rtt_p_exp = sum(payment_exp) / sum(enrolls_exp)\n",
    "rtt_diff = rtt_p_exp - rtt_p_cont\n",
    "rtt_p_pool = (sum(payment_cont) + sum(payment_exp))/ (sum(enrolls_cont) + sum(enrolls_exp))\n",
    "rtt_se_pool = np.sqrt(rtt_p_pool * (1-rtt_p_pool) * (1/sum(enrolls_cont) + 1/sum(enrolls_exp)))\n",
    "ci_left, ci_right = rtt_diff-1.96*rtt_se_pool, rtt_diff+1.96* rtt_se_pool\n",
    "\n",
    "print (f'Retention confidence interval: [{round(ci_left, 4)}, {round(ci_right, 4)}]')\n",
    "print (f'Observed Retention diff: {round(rtt_diff, 4)}')\n",
    "print (f'Statistical significance: {0< ci_left or 0 > ci_right}')\n",
    "print (f'Practical significance (d_min = 0.01): {0.01< ci_left or 0.01 > ci_right}')"
   ]
  },
  {
   "cell_type": "code",
   "execution_count": 41,
   "metadata": {},
   "outputs": [
    {
     "name": "stdout",
     "output_type": "stream",
     "text": [
      "Retention confidence interval: [-0.0116, 0.0019]\n",
      "Observed Retention diff: -0.0049\n",
      "Statistical significance: False\n",
      "Practical significance (d_min = 0.0075): False\n"
     ]
    }
   ],
   "source": [
    "cnt = len(payment_cont)\n",
    "nc_p_cont = sum(payment_cont) / sum(clicks_cont[:cnt])\n",
    "nc_p_exp = sum(payment_exp) / sum(clicks_exp[:cnt])\n",
    "nc_diff = nc_p_exp - nc_p_cont\n",
    "nc_p_pool = (sum(payment_cont) + sum(payment_exp))/ (sum(clicks_cont[:cnt]) + sum(clicks_exp[:cnt]))\n",
    "nc_se_pool = np.sqrt(nc_p_pool * (1-nc_p_pool) * (1/sum(clicks_cont[:cnt]) + 1/sum(clicks_exp[:cnt])))\n",
    "ci_left, ci_right = nc_diff-1.96*nc_se_pool, nc_diff+1.96* nc_se_pool\n",
    "\n",
    "print (f'Retention confidence interval: [{round(ci_left, 4)}, {round(ci_right, 4)}]')\n",
    "print (f'Observed Retention diff: {round(nc_diff, 4)}')\n",
    "print (f'Statistical significance: {0< ci_left or 0 > ci_right}')\n",
    "print (f'Practical significance (d_min = 0.0075): {0.0075>max( abs(ci_left), abs(ci_right))}')"
   ]
  },
  {
   "cell_type": "markdown",
   "metadata": {},
   "source": [
    "# Sign test"
   ]
  },
  {
   "cell_type": "code",
   "execution_count": 43,
   "metadata": {},
   "outputs": [],
   "source": [
    "alpha=0.05\n",
    "beta = 0.2"
   ]
  },
  {
   "cell_type": "code",
   "execution_count": 46,
   "metadata": {},
   "outputs": [
    {
     "name": "stdout",
     "output_type": "stream",
     "text": [
      "23 23\n"
     ]
    }
   ],
   "source": [
    "print(days, len(rtt_exp))"
   ]
  },
  {
   "cell_type": "code",
   "execution_count": 48,
   "metadata": {},
   "outputs": [
    {
     "name": "stdout",
     "output_type": "stream",
     "text": [
      "Retention p-value: 0.6776, statistically significance: False\n"
     ]
    }
   ],
   "source": [
    "rtt_exp = [i/j for (i,j) in zip(payment_exp , enrolls_exp)]\n",
    "rtt_cont = [i/j for (i,j) in zip(payment_cont , enrolls_cont)]\n",
    "rtt_sign = sum([i>j for (i,j) in zip(rtt_exp, rtt_cont)])\n",
    "days = cnt\n",
    "p_value = binom_test(rtt_sign, n=days, p=0.5)\n",
    "\n",
    "print(f'Retention p-value: {round(p_value, 4)}, statistically significance: {p_value < alpha}')\n"
   ]
  },
  {
   "cell_type": "code",
   "execution_count": 52,
   "metadata": {},
   "outputs": [
    {
     "name": "stdout",
     "output_type": "stream",
     "text": [
      "Net Conversion p-value: 0.6776, statistically significance: False\n"
     ]
    }
   ],
   "source": [
    "nc_exp = [i/j for (i,j) in zip(payment_exp , clicks_exp)]\n",
    "nc_cont = [i/j for (i,j) in zip(payment_cont , clicks_cont)]\n",
    "nc_sign = sum([i>j for (i,j) in zip(nc_exp, nc_cont)])\n",
    "days = cnt\n",
    "p_value = binom_test(nc_sign, n=days, p=0.5)\n",
    "\n",
    "print(f'Net Conversion p-value: {round(p_value, 4)}, statistically significance: {p_value < alpha}')\n"
   ]
  },
  {
   "cell_type": "code",
   "execution_count": null,
   "metadata": {},
   "outputs": [],
   "source": []
  }
 ],
 "metadata": {
  "kernelspec": {
   "display_name": "Python 3",
   "language": "python",
   "name": "python3"
  },
  "language_info": {
   "codemirror_mode": {
    "name": "ipython",
    "version": 3
   },
   "file_extension": ".py",
   "mimetype": "text/x-python",
   "name": "python",
   "nbconvert_exporter": "python",
   "pygments_lexer": "ipython3",
   "version": "3.8.3"
  }
 },
 "nbformat": 4,
 "nbformat_minor": 4
}
